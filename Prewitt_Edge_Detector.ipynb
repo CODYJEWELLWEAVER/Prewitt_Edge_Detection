{
 "cells": [
  {
   "cell_type": "markdown",
   "id": "eaac4c18-f5a5-4139-9168-142e20e15ce0",
   "metadata": {
    "tags": []
   },
   "source": [
    "# Edge Detection Using The Prewitt Operator\n",
    "*Cody Weaver*\n",
    "\n",
    "### What Is The Prewitt Operator\n",
    "The Prewitt operator is a discrete differentiation operator that computes an approxiamation of the image intensity function gradient. The Prewitt operator can be used to detect edges in an image because the magnitude of the gradient of the image at a given pixel will have large values when the pixels nearby have large differences in intensity and smaller values when the differences in intensity are small. The gradient of the image intensity function at a given pixel is a 2D vector with $x$ and $y$ components of $G_x$ and $G_y$. The Prewitt operator uses two $3x3$ kernels.The $P_x$ kernel calculates the $x$ component of the gradient and the $P_y$ kernel calculates the $y$ component of the gradient. \n",
    "\n",
    "$$ P_x = \\left(\\begin{array}{cc} \n",
    "        1 & 0 & -1 \\\\\n",
    "        1 & 0 & -1 \\\\\n",
    "        1 & 0 & -1 \n",
    "        \\end{array}\\right) $$\n",
    "\n",
    "$\\;$\n",
    "        \n",
    "$$ P_y = \\left(\\begin{array}{cc}\n",
    "        1 & 1 & 1 \\\\\n",
    "        0 & 0 & 0 \\\\\n",
    "        -1 & -1 & -1 \n",
    "        \\end{array}\\right) $$\n",
    "        \n",
    "To compute $G_x$ and $G_y$ for a given pixel you convolve the image with the kernels. To find the $x$ component for the pixel at $(a,b)$ in the image $I$ **(note that the image should be converted to grayscale before applying the Prewitt Operator)**:\n",
    "\n",
    "$$ G_x(a,b) = \\Sigma_{i=0}^2\\Sigma_{j=0}^2 P_x(i,j)\\;*\\; I(a-1+i,\\; b-1+j) $$\n",
    "\n",
    "Likewise, finding the $y$ component is done like:\n",
    "\n",
    "$$ G_y(a,b) = \\Sigma_{i=0}^2\\Sigma_{j=0}^2 P_y(i,j)\\;*\\; I(a-1+i,\\; b-1+j) $$\n",
    "\n",
    "You can then find the magnitude, $G_{mag}$ of the gradient vector:\n",
    "\n",
    "$$ G_{mag} = \\sqrt{G_x^2 + G_y^2} $$\n",
    "\n",
    "The value of a pixel in the edge image is set to the value of $G_{mag}$. Pixels with a large $G_{mag}$ will be brighter than surrounding pixels and denote an edge found by the Prewitt Operator.\n",
    "\n",
    "The Prewitt Operator can be used on a grayscale image by itself but it can be easily improved in a few ways. The first is you can only accept edge found if they are above a certain magnitude. This will help eliminate redundant edges and false positives. The second way is to blur the image first before applying the Prewitt Operator. Smoothing the grayscale image can help reduce noise and allow for cleaner edges to be found.\n",
    "\n",
    "### Pseudocode for Implementation of Prewitt Operator\n",
    "    img = readImage()\n",
    "    convert img to grayscale\n",
    "    optionally smooth image to reduce noise\n",
    "    for i in 1, rows-2:\n",
    "        for j in 1, columns-2:\n",
    "            Gx = sum(sum(Px * I(i:i+2, j:j+2))\n",
    "            Gy = sum(sum(Py * I(i:i+2, j:j+2))\n",
    "            Gmag = sqrt(Gx^2 + Gy^2)\n",
    "            if Gmag < THRESHOLD:\n",
    "               Gmag = 0\n",
    "            new_img[i,j] = Gmag\n",
    "            \n",
    "     return new_img\n",
    "\n",
    "### The Prewitt Operator\n",
    "This implementation of the Prewitt Operator can smooth and threshold the image to produce different results."
   ]
  },
  {
   "cell_type": "code",
   "execution_count": 86,
   "id": "57b3b2b2-fcd9-4f78-a1f7-e1aa492bccc9",
   "metadata": {},
   "outputs": [],
   "source": [
    "import cv2\n",
    "import numpy as np\n",
    "\n",
    "# Threshold values should be between 0 and 255\n",
    "def prewitt_operator(img, threshold=40, smooth=True):\n",
    "    rows, cols = img.shape #find image size\n",
    "    edge_img = np.zeros((rows, cols)) #blank image \n",
    "    \n",
    "    #P_x\n",
    "    prewitt_x = np.array([[1, 0, -1], \n",
    "                          [1, 0, -1],\n",
    "                          [1, 0, -1]])\n",
    "    #P_y\n",
    "    prewitt_y = np.array([[1, 1, 1],\n",
    "                          [0, 0, 0],\n",
    "                          [-1, -1, -1]])\n",
    "    \n",
    "    if smooth: # blurs image to reduce noise\n",
    "        img = cv2.GaussianBlur(img,(3, 3),cv2.BORDER_DEFAULT)\n",
    "    \n",
    "    for i in range(1, rows-1): # ignores the edge pixels since G_x and G_y cannot be computed at the edge\n",
    "        for j in  range(1, cols-1):\n",
    "            \n",
    "            G_x = ( (img[i-1,j-1] * prewitt_x[0,0]) + (img[i,j-1] * prewitt_x[0,1]) + (img[i+1,j-1] * prewitt_x[0,2])\n",
    "                  + (img[i-1,j] * prewitt_x[1,0]) + (img[i,j] * prewitt_x[1, 1]) + (img[i+1,j] * prewitt_x[1,2])\n",
    "                  + (img[i-1,j+1] * prewitt_x[2,0]) + (img[i,j+1] * prewitt_x[2,1]) + (img[i+1,j+1] * prewitt_x[2,2]) )\n",
    "            \n",
    "            G_y = ( (img[i-1,j-1] * prewitt_y[0,0]) + (img[i,j-1] * prewitt_y[0,1]) + (img[i+1,j-1] * prewitt_y[0,2])\n",
    "                  + (img[i-1,j] * prewitt_y[1,0]) + (img[i,j] * prewitt_y[1,1]) + (img[i+1,j] * prewitt_y[1,2])\n",
    "                  + (img[i-1,j+1] * prewitt_y[2,0]) + (img[i,j+1] * prewitt_y[2,1]) + (img[i+1,j+1] * prewitt_y[2,2]) )\n",
    "            \n",
    "            G_mag = np.sqrt(G_x ** 2 + G_y ** 2)\n",
    "            \n",
    "            if G_mag < threshold: G_mag = 0 \n",
    "            \n",
    "            edge_img[i, j] = G_mag\n",
    "            \n",
    "    return edge_img"
   ]
  },
  {
   "cell_type": "markdown",
   "id": "f6518271-8d2f-4f3b-808b-8b4ceca51810",
   "metadata": {},
   "source": [
    "### Before And After Prewitt Operator Without Smoothing And Thresholding"
   ]
  },
  {
   "cell_type": "code",
   "execution_count": 87,
   "id": "66587d23-3e3d-4ffa-a86e-604dfa2a4c72",
   "metadata": {},
   "outputs": [
    {
     "data": {
      "text/plain": [
       "True"
      ]
     },
     "execution_count": 87,
     "metadata": {},
     "output_type": "execute_result"
    }
   ],
   "source": [
    "img = cv2.imread(\"img/bird.jpg\", cv2.IMREAD_GRAYSCALE) # reads image and convert to grayscale\n",
    "edge_img = prewitt_operator(img, threshold=0, smooth=False)\n",
    "cv2.imwrite(\"img/bird_output.jpg\", edge_img)"
   ]
  },
  {
   "cell_type": "markdown",
   "id": "b3c97310-c3c9-403b-8466-d9f88a3feb3b",
   "metadata": {},
   "source": [
    "<p style=\"text-align: center;\"><img src=\"img/bird.jpg\"/><img src=\"img/bird_output.jpg\"/></p> "
   ]
  },
  {
   "cell_type": "markdown",
   "id": "552f336f-7803-413d-88b9-05abd1799afd",
   "metadata": {},
   "source": [
    "### Prewitt Operator With Threshold = 40 And No Smoothing"
   ]
  },
  {
   "cell_type": "code",
   "execution_count": 88,
   "id": "ec68ddb2-e52c-42df-88c8-6ba4c3e22d26",
   "metadata": {},
   "outputs": [
    {
     "data": {
      "text/plain": [
       "True"
      ]
     },
     "execution_count": 88,
     "metadata": {},
     "output_type": "execute_result"
    }
   ],
   "source": [
    "img = cv2.imread(\"img/bird.jpg\", cv2.IMREAD_GRAYSCALE) # reads image and convert to grayscale\n",
    "edge_img = prewitt_operator(img, threshold=40, smooth=False)\n",
    "cv2.imwrite(\"img/bird_output_threshold.jpg\", edge_img)"
   ]
  },
  {
   "cell_type": "markdown",
   "id": "b915a516-5e37-465d-bf2b-101c888b0647",
   "metadata": {},
   "source": [
    "<p style=\"text-align: center;\"><img src=\"img/bird.jpg\"/><img src=\"img/bird_output_threshold.jpg\"/></p> "
   ]
  },
  {
   "cell_type": "markdown",
   "id": "f4ad1e57-dbe4-41c3-a445-17e3231f1e09",
   "metadata": {},
   "source": [
    "### Prewitt Operator With Smoothing And No Threshold"
   ]
  },
  {
   "cell_type": "code",
   "execution_count": 89,
   "id": "0321df24-2239-4abc-963f-7bcd00a4d369",
   "metadata": {},
   "outputs": [
    {
     "data": {
      "text/plain": [
       "True"
      ]
     },
     "execution_count": 89,
     "metadata": {},
     "output_type": "execute_result"
    }
   ],
   "source": [
    "img = cv2.imread(\"img/bird.jpg\", cv2.IMREAD_GRAYSCALE) # reads image and convert to grayscale\n",
    "edge_img = prewitt_operator(img, threshold=0, smooth=True)\n",
    "cv2.imwrite(\"img/bird_output_smooth.jpg\", edge_img)"
   ]
  },
  {
   "cell_type": "markdown",
   "id": "49e2ded1-4459-43d1-81d1-f3d1e47998b3",
   "metadata": {},
   "source": [
    "<p style=\"text-align: center;\"><img src=\"img/bird.jpg\"/><img src=\"img/bird_output_smooth.jpg\"/></p> "
   ]
  },
  {
   "cell_type": "markdown",
   "id": "729ec815-1572-42b3-b328-d9e13773cffb",
   "metadata": {},
   "source": [
    "### Prewitt Operator With Thresholding And Smoothing\n"
   ]
  },
  {
   "cell_type": "code",
   "execution_count": 91,
   "id": "b2e239cb-3663-4235-9a90-68d2bfa4fe65",
   "metadata": {},
   "outputs": [
    {
     "data": {
      "text/plain": [
       "True"
      ]
     },
     "execution_count": 91,
     "metadata": {},
     "output_type": "execute_result"
    }
   ],
   "source": [
    "img = cv2.imread(\"img/bird.jpg\", cv2.IMREAD_GRAYSCALE) # reads image and convert to grayscale\n",
    "edge_img = prewitt_operator(img, 40, smooth=True)\n",
    "cv2.imwrite(\"img/bird_output_ts.jpg\", edge_img)"
   ]
  },
  {
   "cell_type": "markdown",
   "id": "35af7b1c-f84b-4263-8f3d-ec4780e6a0f3",
   "metadata": {},
   "source": [
    "<p style=\"text-align: center;\"><img src=\"img/bird.jpg\"/><img src=\"img/bird_output_ts.jpg\"/></p> "
   ]
  }
 ],
 "metadata": {
  "kernelspec": {
   "display_name": "Python 3 (ipykernel)",
   "language": "python",
   "name": "python3"
  },
  "language_info": {
   "codemirror_mode": {
    "name": "ipython",
    "version": 3
   },
   "file_extension": ".py",
   "mimetype": "text/x-python",
   "name": "python",
   "nbconvert_exporter": "python",
   "pygments_lexer": "ipython3",
   "version": "3.9.7"
  }
 },
 "nbformat": 4,
 "nbformat_minor": 5
}
